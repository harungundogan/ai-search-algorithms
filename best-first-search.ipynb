{
 "cells": [
  {
   "cell_type": "code",
   "execution_count": 1,
   "id": "29af0d52-e26a-479b-9aab-65006f6ab6b5",
   "metadata": {},
   "outputs": [],
   "source": [
    "# An example graph to work with \n",
    "graph = {\"A\": [[\"B\", 1], [\"C\", 4], [\"D\", 10]], \n",
    "         \"B\": [[\"A\", 1], [\"C\", 2], [\"E\", 20]], \n",
    "         \"C\": [[\"A\", 4], [\"B\", 2], [\"F\", 1], [\"G\", 5]], \n",
    "         \"D\": [[\"A\", 10], [\"H\", 1]], \n",
    "         \"E\": [[\"B\", 20]], \n",
    "         \"F\": [[\"C\", 1], [\"H\", 9]], \n",
    "         \"G\": [[\"C\", 5], [\"H\", 8]], \n",
    "         \"H\": [[\"F\", 9], [\"G\", 8], [\"D\", 1]],}"
   ]
  },
  {
   "cell_type": "code",
   "execution_count": 2,
   "id": "bb4ffdf7-3106-4949-938c-15fefd68a189",
   "metadata": {},
   "outputs": [],
   "source": [
    "heuristics = {\"A\":10, \"B\":10, \"C\":8, \"D\":20, \"E\":10, \"F\":0, \"G\":5, \"H\": 6}"
   ]
  },
  {
   "cell_type": "code",
   "execution_count": 44,
   "id": "0b5385ff-360a-48dd-a190-1d9e9891a944",
   "metadata": {},
   "outputs": [],
   "source": [
    "import collections \n",
    "def best_first_search(graph, heuristics, start_vertex, end_vertex):\n",
    "    \n",
    "    queue = collections.deque()\n",
    "    \n",
    "    for i in graph[start_vertex]:\n",
    "        queue.append([start_vertex + i[0], heuristics[i[0]]])\n",
    "        queue = collections.deque(sorted(queue, key=lambda sub_route: sub_route[1]))\n",
    "    extended_list = [start_vertex]\n",
    "    counter = 0 \n",
    "    while end_vertex not in extended_list:\n",
    "            print(queue)\n",
    "        \n",
    "         # Explore neighbors of the current node    \n",
    "            for j in graph[queue[0][0][-1]]:\n",
    "                if j[0] not in extended_list:  \n",
    "                    if [str(queue[0][0] + j[0]), heuristics[j[0]]] not in queue:\n",
    "                        queue.append([str(queue[0][0] + j[0]), heuristics[j[0]]])\n",
    "            queue = collections.deque(sorted(queue, key=lambda sub_route: sub_route[1]))\n",
    "            if queue[0][0][-1] in extended_list:\n",
    "                queue.popleft()\n",
    "                print(queue)\n",
    "            extended_list.append(queue[0][0][-1])\n",
    "            if not queue: \n",
    "                print(queue)\n",
    "                print(f\"No path between vertex\", start_vertex, \"and vertex\", end_vertex)\n",
    "                return  \n",
    "    print(queue)\n",
    "    return queue[0]"
   ]
  },
  {
   "cell_type": "code",
   "execution_count": 47,
   "id": "e421afba-37a7-4e25-b55b-ed4d1c8b8433",
   "metadata": {
    "scrolled": true
   },
   "outputs": [
    {
     "name": "stdout",
     "output_type": "stream",
     "text": [
      "deque([['AC', 8], ['AB', 10], ['AD', 20]])\n",
      "deque([['ACF', 5], ['ACG', 5], ['AC', 8], ['AB', 10], ['ACB', 10], ['AD', 20]])\n",
      "deque([['ACFH', 0], ['ACF', 5], ['ACG', 5], ['AC', 8], ['ACFC', 8], ['AB', 10], ['ACB', 10], ['AD', 20]])\n"
     ]
    },
    {
     "data": {
      "text/plain": [
       "['ACFH', 0]"
      ]
     },
     "execution_count": 47,
     "metadata": {},
     "output_type": "execute_result"
    }
   ],
   "source": [
    "best_first_search(graph, heuristics, \"A\", \"H\")"
   ]
  }
 ],
 "metadata": {
  "kernelspec": {
   "display_name": "Python 3 (ipykernel)",
   "language": "python",
   "name": "python3"
  },
  "language_info": {
   "codemirror_mode": {
    "name": "ipython",
    "version": 3
   },
   "file_extension": ".py",
   "mimetype": "text/x-python",
   "name": "python",
   "nbconvert_exporter": "python",
   "pygments_lexer": "ipython3",
   "version": "3.11.3"
  }
 },
 "nbformat": 4,
 "nbformat_minor": 5
}
