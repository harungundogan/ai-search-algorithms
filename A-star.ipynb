{
 "cells": [
  {
   "cell_type": "code",
   "execution_count": 10,
   "id": "024b2fcb-4c21-4328-ae59-52aff40c5ee7",
   "metadata": {},
   "outputs": [],
   "source": [
    "# An example graph to work with \n",
    "graph = {\"A\": [[\"B\", 1], [\"C\", 4], [\"D\", 10]], \n",
    "         \"B\": [[\"A\", 1], [\"C\", 2], [\"E\", 20]], \n",
    "         \"C\": [[\"A\", 4], [\"B\", 2], [\"F\", 1], [\"G\", 5]], \n",
    "         \"D\": [[\"A\", 10], [\"H\", 1]], \n",
    "         \"E\": [[\"B\", 20]], \n",
    "         \"F\": [[\"C\", 1], [\"H\", 9]], \n",
    "         \"G\": [[\"C\", 5], [\"H\", 8]], \n",
    "         \"H\": [[\"F\", 9], [\"G\", 8], [\"D\", 1]],}"
   ]
  },
  {
   "cell_type": "code",
   "execution_count": 11,
   "id": "485ab56f-a85b-4650-a147-490fd7771eaa",
   "metadata": {},
   "outputs": [],
   "source": [
    "heuristics = {\"A\":10, \"B\":10, \"C\":8, \"D\":20, \"E\":10, \"F\":0, \"G\":5, \"H\": 6}"
   ]
  },
  {
   "cell_type": "code",
   "execution_count": 31,
   "id": "643a2a3e-73a5-4272-b805-47ac88e25123",
   "metadata": {},
   "outputs": [],
   "source": [
    "import collections\n",
    "\n",
    "def A_star(graph, heuristics, start_vertex, end_vertex):\n",
    "    a_star_queue = collections.deque()\n",
    "    \n",
    "    # Initialize the queue with start vertex and its associated heuristic value\n",
    "    for i in graph[start_vertex]:\n",
    "        a_star_queue.append([start_vertex + i[0], i[1] + heuristics[i[0]]])\n",
    "        a_star_queue = collections.deque(sorted(a_star_queue, key=lambda sub_route: sub_route[1]))\n",
    "        extended_list = [start_vertex]\n",
    "    print(a_star_queue) \n",
    "    while end_vertex != a_star_queue[0][0][-1]:\n",
    "            print(a_star_queue)\n",
    "    # Explore neighbors of the current node\n",
    "            for j in graph[a_star_queue[0][0][-1]]:\n",
    "                \n",
    "                if j[0] not in extended_list:  \n",
    "                    \n",
    "                    curr_cost = j[1] + a_star_queue[0][1] + heuristics[j[0]] - heuristics[a_star_queue[0][0][-1]]\n",
    "                    curr_path = a_star_queue[0][0] + j[0]\n",
    "                    \n",
    "                    if [curr_path, curr_cost] not in a_star_queue:\n",
    "                        a_star_queue.append([curr_path, curr_cost])\n",
    "                        \n",
    "            a_star_queue = collections.deque(sorted(a_star_queue, key=lambda sub_route: sub_route[1]))\n",
    "\n",
    "            extended_list.append(a_star_queue[0][0][-1])\n",
    "\n",
    "            if end_vertex != a_star_queue[0][0][-1]:\n",
    "                a_star_queue.popleft()\n",
    "                print(a_star_queue)\n",
    "                if not a_star_queue: \n",
    "                    print(f\"No path between vertex\", start_vertex, \"and vertex\", end_vertex)\n",
    "                    return\n",
    "            else:\n",
    "                return a_star_queue[0]  \n",
    "    print(a_star_queue)\n",
    "    return a_star_queue[0]"
   ]
  },
  {
   "cell_type": "code",
   "execution_count": 32,
   "id": "033c864f-1e8d-485f-90d7-f360d6dadbaf",
   "metadata": {},
   "outputs": [
    {
     "name": "stdout",
     "output_type": "stream",
     "text": [
      "deque([['EB', 30]])\n",
      "deque([['EB', 30], ['EBC', 30], ['EBA', 31]])\n",
      "deque([['EBC', 30], ['EBA', 31]])\n",
      "deque([['EBCF', 23], ['EBC', 30], ['EBA', 31], ['EBCG', 32], ['EBCA', 36]])\n"
     ]
    },
    {
     "data": {
      "text/plain": [
       "['EBCF', 23]"
      ]
     },
     "execution_count": 32,
     "metadata": {},
     "output_type": "execute_result"
    }
   ],
   "source": [
    "a_star( graph, heuristics, \"E\", \"F\")"
   ]
  }
 ],
 "metadata": {
  "kernelspec": {
   "display_name": "Python 3 (ipykernel)",
   "language": "python",
   "name": "python3"
  },
  "language_info": {
   "codemirror_mode": {
    "name": "ipython",
    "version": 3
   },
   "file_extension": ".py",
   "mimetype": "text/x-python",
   "name": "python",
   "nbconvert_exporter": "python",
   "pygments_lexer": "ipython3",
   "version": "3.11.3"
  }
 },
 "nbformat": 4,
 "nbformat_minor": 5
}
