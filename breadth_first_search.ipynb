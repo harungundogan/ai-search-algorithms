{
 "cells": [
  {
   "cell_type": "code",
   "execution_count": 6,
   "id": "960272ec-7ac9-479e-bce6-84e8e227b502",
   "metadata": {},
   "outputs": [],
   "source": [
    "import collections"
   ]
  },
  {
   "cell_type": "code",
   "execution_count": 3,
   "id": "cba256ae-1122-4208-8428-d26c3820b7d6",
   "metadata": {},
   "outputs": [],
   "source": [
    "# An example graph to work with \n",
    "graph = {\"A\": [[\"B\", 1], [\"C\", 4], [\"D\", 10]], \n",
    "         \"B\": [[\"A\", 1], [\"C\", 2], [\"E\", 20]], \n",
    "         \"C\": [[\"A\", 4], [\"B\", 2], [\"F\", 1], [\"G\", 5]], \n",
    "         \"D\": [[\"A\", 10], [\"H\", 1]], \n",
    "         \"E\": [[\"B\", 20]], \n",
    "         \"F\": [[\"C\", 1], [\"H\", 9]], \n",
    "         \"G\": [[\"C\", 5], [\"H\", 8]], \n",
    "         \"H\": [[\"F\", 9], [\"G\", 8], [\"D\", 1]],}"
   ]
  },
  {
   "cell_type": "code",
   "execution_count": 4,
   "id": "291df3fb-e57b-4fe3-93ef-3df9a56809ca",
   "metadata": {},
   "outputs": [],
   "source": [
    "# Traversing the graph\n",
    "def breadth_first_search(graph, start_vertex, end_vertex):\n",
    "    #Extended list to keep track of the visited vertices\n",
    "    extended_list = []\n",
    "\n",
    "    #Dequeue to implement the breadth-first search\n",
    "    bfs_queue = collections.deque()\n",
    "    \n",
    "    #Appending the start vertex\n",
    "    bfs_queue.append(start_vertex)\n",
    "    \n",
    "    while end_vertex not in bfs_queue: \n",
    "        if end_vertex != bfs_queue[0][-1]:  \n",
    "            for j in graph[bfs_queue[0][-1]]:\n",
    "                if j[0] not in extended_list: \n",
    "                    bfs_queue.append(bfs_queue[0] + j[0])\n",
    "            extended_list.append(bfs_queue[0][-1])\n",
    "            print(bfs_queue)\n",
    "            bfs_queue.popleft()\n",
    "        else: \n",
    "            return bfs_queue[0]"
   ]
  },
  {
   "cell_type": "code",
   "execution_count": 7,
   "id": "1dce086b-b532-4e83-bbd9-e2ca44b5f74a",
   "metadata": {},
   "outputs": [
    {
     "name": "stdout",
     "output_type": "stream",
     "text": [
      "deque(['E', 'EB'])\n",
      "deque(['EB', 'EBA', 'EBC'])\n",
      "deque(['EBA', 'EBC', 'EBAC', 'EBAD'])\n",
      "deque(['EBC', 'EBAC', 'EBAD', 'EBCF', 'EBCG'])\n",
      "deque(['EBAC', 'EBAD', 'EBCF', 'EBCG', 'EBACF', 'EBACG'])\n",
      "deque(['EBAD', 'EBCF', 'EBCG', 'EBACF', 'EBACG', 'EBADH'])\n"
     ]
    },
    {
     "data": {
      "text/plain": [
       "'EBCF'"
      ]
     },
     "execution_count": 7,
     "metadata": {},
     "output_type": "execute_result"
    }
   ],
   "source": [
    "breadth_first_search(graph, \"E\", \"F\")"
   ]
  },
  {
   "cell_type": "code",
   "execution_count": null,
   "id": "e8bd5d1d-7b98-42cf-8ff4-13e4bec75a93",
   "metadata": {},
   "outputs": [],
   "source": []
  }
 ],
 "metadata": {
  "kernelspec": {
   "display_name": "Python 3 (ipykernel)",
   "language": "python",
   "name": "python3"
  },
  "language_info": {
   "codemirror_mode": {
    "name": "ipython",
    "version": 3
   },
   "file_extension": ".py",
   "mimetype": "text/x-python",
   "name": "python",
   "nbconvert_exporter": "python",
   "pygments_lexer": "ipython3",
   "version": "3.11.3"
  }
 },
 "nbformat": 4,
 "nbformat_minor": 5
}
