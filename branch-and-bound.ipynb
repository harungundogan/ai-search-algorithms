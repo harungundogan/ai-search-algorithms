{
 "cells": [
  {
   "cell_type": "code",
   "execution_count": 2,
   "id": "08176d2d-8ad9-413e-a29b-03e2080d67d4",
   "metadata": {},
   "outputs": [],
   "source": [
    "# An example graph to work with \n",
    "graph = {\"A\": [[\"B\", 1], [\"C\", 4], [\"D\", 10]], \n",
    "         \"B\": [[\"A\", 1], [\"C\", 2], [\"E\", 20]], \n",
    "         \"C\": [[\"A\", 4], [\"B\", 2], [\"F\", 1], [\"G\", 5]], \n",
    "         \"D\": [[\"A\", 10], [\"H\", 1]], \n",
    "         \"E\": [[\"B\", 20]], \n",
    "         \"F\": [[\"C\", 1], [\"H\", 9]], \n",
    "         \"G\": [[\"C\", 5], [\"H\", 8]], \n",
    "         \"H\": [[\"F\", 9], [\"G\", 8], [\"D\", 1]],}"
   ]
  },
  {
   "cell_type": "code",
   "execution_count": 51,
   "id": "312b058d-fd42-4dd0-ae30-4ed922456bc1",
   "metadata": {},
   "outputs": [],
   "source": [
    "import collections \n",
    "\n",
    "def branch_and_bound(graph, start_vertex, end_vertex):\n",
    "    bnb_queue = collections.deque()\n",
    "    \n",
    "    # Initialization of the queue\n",
    "    for i in graph[start_vertex]:\n",
    "        bnb_queue.append([start_vertex + i[0], i[1]])\n",
    "        bnb_queue = collections.deque(sorted(bnb_queue, key=lambda sub_route: sub_route[1]))\n",
    "        extended_list = [start_vertex]\n",
    "    print(bnb_queue)\n",
    "    while end_vertex != bnb_queue[0][0][-1]:\n",
    "        \n",
    "        # Explore neighbors of the current node \n",
    "            for j in graph[bnb_queue[0][0][-1]]:\n",
    "                if j[0] not in extended_list:  \n",
    "                    bnb_queue.append([str(bnb_queue[0][0] + j[0]), j[1] + bnb_queue[0][1]])\n",
    "            bnb_queue = collections.deque(sorted(bnb_queue, key=lambda sub_route: sub_route[1]))\n",
    "        \n",
    "            print(bnb_queue)\n",
    "            extended_list.append(bnb_queue[0][0][-1])\n",
    "            if bnb_queue[0][0][-1] in extended_list:   \n",
    "                bnb_queue.popleft()\n",
    "            if not bnb_queue: \n",
    "                print(bnb_queue)\n",
    "                print(f\"No path between vertex\", start_vertex, \"and vertex\", end_vertex)\n",
    "                return\n",
    "    print(bnb_queue)   \n",
    "    return bnb_queue[0]\n",
    "    "
   ]
  },
  {
   "cell_type": "code",
   "execution_count": 52,
   "id": "eea86b7f-ba91-4a78-9dfe-67cc7715a701",
   "metadata": {},
   "outputs": [
    {
     "name": "stdout",
     "output_type": "stream",
     "text": [
      "deque([['HD', 1], ['HG', 8], ['HF', 9]])\n",
      "deque([['HD', 1], ['HG', 8], ['HF', 9], ['HDA', 11]])\n",
      "deque([['HG', 8], ['HF', 9], ['HDA', 11], ['HGC', 13]])\n",
      "deque([['HF', 9], ['HFC', 10], ['HDA', 11], ['HGC', 13]])\n",
      "deque([['HFC', 10], ['HDA', 11], ['HFCB', 12], ['HGC', 13], ['HFCA', 14]])\n",
      "deque([['HDA', 11], ['HFCB', 12], ['HGC', 13], ['HFCA', 14]])\n"
     ]
    },
    {
     "data": {
      "text/plain": [
       "['HDA', 11]"
      ]
     },
     "execution_count": 52,
     "metadata": {},
     "output_type": "execute_result"
    }
   ],
   "source": [
    "branch_and_bound(graph, \"H\", \"A\")"
   ]
  }
 ],
 "metadata": {
  "kernelspec": {
   "display_name": "Python 3 (ipykernel)",
   "language": "python",
   "name": "python3"
  },
  "language_info": {
   "codemirror_mode": {
    "name": "ipython",
    "version": 3
   },
   "file_extension": ".py",
   "mimetype": "text/x-python",
   "name": "python",
   "nbconvert_exporter": "python",
   "pygments_lexer": "ipython3",
   "version": "3.11.3"
  }
 },
 "nbformat": 4,
 "nbformat_minor": 5
}
